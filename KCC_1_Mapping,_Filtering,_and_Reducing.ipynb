{
  "nbformat": 4,
  "nbformat_minor": 0,
  "metadata": {
    "colab": {
      "name": "KCC#1: Mapping, Filtering, and Reducing.ipynb",
      "provenance": [],
      "collapsed_sections": [],
      "toc_visible": true,
      "authorship_tag": "ABX9TyMFu1oX+oNKD+iS7gXVKV67",
      "include_colab_link": true
    },
    "kernelspec": {
      "name": "python3",
      "display_name": "Python 3"
    }
  },
  "cells": [
    {
      "cell_type": "markdown",
      "metadata": {
        "id": "view-in-github",
        "colab_type": "text"
      },
      "source": [
        "<a href=\"https://colab.research.google.com/github/KrithikVallem/Krithiks-Coding-Compendiums/blob/main/KCC_1_Mapping%2C_Filtering%2C_and_Reducing.ipynb\" target=\"_parent\"><img src=\"https://colab.research.google.com/assets/colab-badge.svg\" alt=\"Open In Colab\"/></a>"
      ]
    },
    {
      "cell_type": "markdown",
      "metadata": {
        "id": "CjcFs37T0cHD"
      },
      "source": [
        "# Krithik's Coding Compendiums\n",
        "### \\#1: Mapping, Filtering, and Reducing\n",
        ">Created by Krithik Vallem in February 2021 as a training resource for Michigan EcoData's Eco-Update Synthesizer Team"
      ]
    },
    {
      "cell_type": "markdown",
      "metadata": {
        "id": "0VrhCaWzYPnw"
      },
      "source": [
        "# Intro\n",
        "\n",
        "One of the most common programming techniques is using `for` loops and `if` statements together to perform certain operations on data structures like `lists`, `dictionaries`, and `strings`.\n",
        "\n",
        "Filtering, Mapping, and Reducing are three such operations, and together they can solve a large number of the programming problems you will face.\n",
        "\n",
        "\n",
        "\n",
        "> **Important Note!**\n",
        ">\n",
        "> Python has functions called `filter`, `map`, and `reduce`\n",
        ">\n",
        "> But **DO NOT** use them. They are rarely used by most Python programmers and were nearly removed from Python as a result. \n",
        ">\n",
        ">Instead, we will be referring to the generic data operations called filtering, mapping, and reducing.\n",
        ">\n",
        "> We will use basic `for` loops and `if` statements to perform these operations. After each code example, I will include equivalent examples using comprehensions, the preferred tool of most Python programmers.\n",
        "\n",
        "\n",
        "\n"
      ]
    },
    {
      "cell_type": "markdown",
      "metadata": {
        "id": "d7ci0dhPZhGi"
      },
      "source": [
        "We will begin by working with lists, but keep in mind that these code examples can be adapted for use with dictionaries, strings, and other data structures, even custom classes. Below, you can see a generic template of what the following code examples will follow. This code template can be used to solve the vast majority of programming problems you will face in the future.\n",
        "\n"
      ]
    },
    {
      "cell_type": "code",
      "metadata": {
        "id": "5pSvloBKX4bV"
      },
      "source": [
        "def function_template(old_list):\n",
        "  new_list = []\n",
        "\n",
        "  # use a for loop to iterate over every item in the old_list\n",
        "  for item in old_list:\n",
        "\n",
        "    # do filtering/mapping/reducing here\n",
        "    # to modify the data\n",
        "\n",
        "    # add the item to the new_list\n",
        "    # once it is done being modified\n",
        "    new_list.append(item)\n",
        "\n",
        "  # after looking at every item in the old_list and accumulating their\n",
        "  # transformed versions in new_list, return the new_list\n",
        "  return new_list\n",
        "\n"
      ],
      "execution_count": null,
      "outputs": []
    },
    {
      "cell_type": "markdown",
      "metadata": {
        "id": "b4cE9lsraIKj"
      },
      "source": [
        "# Mapping\n",
        "Mapping is a process that involves transforming data from one form to another. In the example below, we map the numbers in the `nums` list into their square-rooted forms."
      ]
    },
    {
      "cell_type": "code",
      "metadata": {
        "colab": {
          "base_uri": "https://localhost:8080/"
        },
        "id": "nlGsWP2sZgOq",
        "outputId": "0a888f6f-1f3d-4f6a-fac1-a35467581d79"
      },
      "source": [
        "import math\n",
        "\n",
        "def get_square_roots(nums):\n",
        "    square_roots = []\n",
        "    \n",
        "    for num in nums:\n",
        "        square_root = math.sqrt(num) # mapping\n",
        "        square_roots.append(square_root)\n",
        "        \n",
        "    return square_roots\n",
        "\n",
        "perfect_squares = [1, 4, 9, 16, 25]\n",
        "square_roots = get_square_roots(perfect_squares)\n",
        "print(square_roots)"
      ],
      "execution_count": null,
      "outputs": [
        {
          "output_type": "stream",
          "text": [
            "[1.0, 2.0, 3.0, 4.0, 5.0]\n"
          ],
          "name": "stdout"
        }
      ]
    },
    {
      "cell_type": "markdown",
      "metadata": {
        "id": "YEtdcDp4at6h"
      },
      "source": [
        "A shorter way to do mapping in Python is to use list comprehensions. However, I would not recommend doing this until you fully understand how the example above with `for` loops and `if` statements works. That said, the example above can be shortened down to:"
      ]
    },
    {
      "cell_type": "code",
      "metadata": {
        "colab": {
          "base_uri": "https://localhost:8080/"
        },
        "id": "tkL3MN8Ma1Ly",
        "outputId": "eb65e2f8-b297-46c9-8444-771eb0b70316"
      },
      "source": [
        "def get_square_roots(nums):\n",
        "  return [math.sqrt(num) for num in nums]\n",
        "\n",
        "perfect_squares = [1, 4, 9, 16, 25]\n",
        "square_roots = get_square_roots(perfect_squares)\n",
        "print(square_roots)"
      ],
      "execution_count": null,
      "outputs": [
        {
          "output_type": "stream",
          "text": [
            "[1.0, 2.0, 3.0, 4.0, 5.0]\n"
          ],
          "name": "stdout"
        }
      ]
    },
    {
      "cell_type": "markdown",
      "metadata": {
        "id": "PL7sEGLZafXN"
      },
      "source": [
        "# Filtering\n",
        "Filtering is a process that involves removing data that does not meet some desired condition. In the example below, we filter the numbers in the `nums` list in order to remove negative numbers. "
      ]
    },
    {
      "cell_type": "code",
      "metadata": {
        "colab": {
          "base_uri": "https://localhost:8080/"
        },
        "id": "SGDwxzTge1v2",
        "outputId": "564e94fc-2ddd-4ab3-db00-56bbb2b7d4c2"
      },
      "source": [
        "def get_positive_numbers(nums):\n",
        "    positive_nums = []\n",
        "    \n",
        "    for num in nums:\n",
        "        if num > 0: # filtering\n",
        "            positive_nums.append(num)\n",
        "            \n",
        "    return positive_nums\n",
        "\n",
        "integers = [-3, -2, -1, 0, 1, 2, 3]\n",
        "positive_integers = get_positive_numbers(integers)\n",
        "print(positive_integers)"
      ],
      "execution_count": null,
      "outputs": [
        {
          "output_type": "stream",
          "text": [
            "[1, 2, 3]\n"
          ],
          "name": "stdout"
        }
      ]
    },
    {
      "cell_type": "markdown",
      "metadata": {
        "id": "eNnq-yq2h9rh"
      },
      "source": [
        "A shorter way to do filtering in Python is by using comprehensions. Again, I would not recommend doing this until you fully understand how the example above with `for` loops and `if` statements works. That said, the example above can be shortened down to:"
      ]
    },
    {
      "cell_type": "code",
      "metadata": {
        "colab": {
          "base_uri": "https://localhost:8080/"
        },
        "id": "0KBB2IWIiJb-",
        "outputId": "89e43b8c-2557-4c56-adfa-0c33f48cc952"
      },
      "source": [
        "def get_positive_numbers(nums):\n",
        "  return [num for num in nums if num > 0]\n",
        "\n",
        "integers = [-3, -2, -1, 0, 1, 2, 3]\n",
        "positive_integers = get_positive_numbers(integers)\n",
        "print(positive_integers)"
      ],
      "execution_count": null,
      "outputs": [
        {
          "output_type": "stream",
          "text": [
            "[1, 2, 3]\n"
          ],
          "name": "stdout"
        }
      ]
    },
    {
      "cell_type": "markdown",
      "metadata": {
        "id": "wvGBkpjPgszp"
      },
      "source": [
        "# Reducing\n",
        "Reducing is a process that involves accumulating all of the values in a list (or any other iterable data structure) into a single value using some operation. In the example below, we reduce the numbers in the `nums` list into a single product by multiplying them all with each other."
      ]
    },
    {
      "cell_type": "code",
      "metadata": {
        "colab": {
          "base_uri": "https://localhost:8080/"
        },
        "id": "wKgyHnLIhtJY",
        "outputId": "4d0b8fd2-f3cd-40dc-8ee4-25e780704958"
      },
      "source": [
        "def get_product(nums):\n",
        "    product = 1\n",
        "    \n",
        "    for num in nums:\n",
        "        product = product * num # reducing\n",
        "        # can be shortened to: product *= num\n",
        "        \n",
        "    return product\n",
        "\n",
        "numbers = [1,2,3,4,5]\n",
        "product = get_product(numbers)\n",
        "print(product)"
      ],
      "execution_count": null,
      "outputs": [
        {
          "output_type": "stream",
          "text": [
            "120\n"
          ],
          "name": "stdout"
        }
      ]
    },
    {
      "cell_type": "markdown",
      "metadata": {
        "id": "8Q38RVboixKq"
      },
      "source": [
        "Unlike mapping and filtering, there is no clean and concise way to shorten the reducing process with a comprehension. You should just use the `for` loop as shown above."
      ]
    },
    {
      "cell_type": "markdown",
      "metadata": {
        "id": "79P6vVm0jBbb"
      },
      "source": [
        "# More Than Just Lists\n",
        "Although the examples thus far have been with lists, these techniques can be expanded to any iterable data structure (strings, dicts, sets, ranges, custom classes, etc...). \n",
        "\n",
        "Below is an example of filtering with a string, and mapping with a dictionary:"
      ]
    },
    {
      "cell_type": "code",
      "metadata": {
        "colab": {
          "base_uri": "https://localhost:8080/"
        },
        "id": "1qulPG5lkO89",
        "outputId": "6b623c00-589d-48d2-97d6-1dd0e2be3b05"
      },
      "source": [
        "# filtering with a string\n",
        "def remove_spaces_from_sentence(sentence):\n",
        "    new_sentence = \"\"\n",
        "    \n",
        "    for character in sentence:\n",
        "        if character != \" \": # filtering\n",
        "            new_sentence = new_sentence + character\n",
        "            # can be shortened to: new_sentence += character\n",
        "            \n",
        "    return new_sentence\n",
        "\n",
        "sentence = \"  Eco   Update Synthesizer    \"\n",
        "spaceless_sentence = remove_spaces_from_sentence(sentence)\n",
        "print(spaceless_sentence)"
      ],
      "execution_count": null,
      "outputs": [
        {
          "output_type": "stream",
          "text": [
            "EcoUpdateSynthesizer\n"
          ],
          "name": "stdout"
        }
      ]
    },
    {
      "cell_type": "code",
      "metadata": {
        "colab": {
          "base_uri": "https://localhost:8080/"
        },
        "id": "AwKX4pb3lFQn",
        "outputId": "febae637-c1f3-4b51-dd6e-cf7d0892cbc8"
      },
      "source": [
        "# mapping with a dictionary\n",
        "def make_keys_uppercase(old_dict):\n",
        "    new_dict = {}\n",
        "    \n",
        "    # basic method\n",
        "    for key in old_dict:\n",
        "        uppercased_key = key.upper()\n",
        "        new_dict[uppercased_key] = old_dict[key] \n",
        "            \n",
        "    # alternate method using .items()\n",
        "    # .items() returns a list of (key, value) tuples\n",
        "    for key, val in old_dict.items():\n",
        "        uppercased_key = key.upper()\n",
        "        new_dict[uppercased_key] = val\n",
        "        \n",
        "    return new_dict\n",
        "\n",
        "state_abbreviations = {'mi': 'Michigan', 'oh': 'Ohio', 'wi': 'Wisconsin'}\n",
        "uppercase_state_abbreviations = make_keys_uppercase(state_abbreviations)\n",
        "print(uppercase_state_abbreviations)"
      ],
      "execution_count": null,
      "outputs": [
        {
          "output_type": "stream",
          "text": [
            "{'MI': 'Michigan', 'OH': 'Ohio', 'WI': 'Wisconsin'}\n"
          ],
          "name": "stdout"
        }
      ]
    },
    {
      "cell_type": "markdown",
      "metadata": {
        "id": "x9ThOF0ImBZz"
      },
      "source": [
        "Similar to how we were able to use comprehensions to shorten the list examples, we can similarly use comprehensions to shorten these examples. Once again, I would not recommend doing this until you fully understand how `for` loops and `if` statements work."
      ]
    },
    {
      "cell_type": "code",
      "metadata": {
        "colab": {
          "base_uri": "https://localhost:8080/"
        },
        "id": "zX0-btZfmrMQ",
        "outputId": "828be0e1-6d4e-41f9-dfdf-48d696f3f38b"
      },
      "source": [
        "# filtering with a string\n",
        "def remove_spaces_from_sentence(sentence):\n",
        "  return \"\".join( character for character in sentence if character != \" \" )\n",
        "\n",
        "sentence = \"  Eco   Update Synthesizer    \"\n",
        "spaceless_sentence = remove_spaces_from_sentence(sentence)\n",
        "print(spaceless_sentence)"
      ],
      "execution_count": null,
      "outputs": [
        {
          "output_type": "stream",
          "text": [
            "EcoUpdateSynthesizer\n"
          ],
          "name": "stdout"
        }
      ]
    },
    {
      "cell_type": "code",
      "metadata": {
        "colab": {
          "base_uri": "https://localhost:8080/"
        },
        "id": "kE7hg5hQm5jb",
        "outputId": "a1a7700c-1069-4c6b-8968-2445b222f83b"
      },
      "source": [
        "# mapping with a dictionary\n",
        "def make_keys_uppercase(old_dict):\n",
        "  return { key.upper():val for key,val in old_dict.items() }\n",
        "\n",
        "state_abbreviations = {'mi': 'Michigan', 'oh': 'Ohio', 'wi': 'Wisconsin'}\n",
        "uppercase_state_abbreviations = make_keys_uppercase(state_abbreviations)\n",
        "print(uppercase_state_abbreviations)"
      ],
      "execution_count": null,
      "outputs": [
        {
          "output_type": "stream",
          "text": [
            "{'MI': 'Michigan', 'OH': 'Ohio', 'WI': 'Wisconsin'}\n"
          ],
          "name": "stdout"
        }
      ]
    },
    {
      "cell_type": "markdown",
      "metadata": {
        "id": "B_JN7ChoqfXs"
      },
      "source": [
        "# Working With Data Structures\n",
        "\n",
        "Let's sidetrack a bit. You may have noticed in the examples above that the ways in which we create and add new items to lists, strings, and dictionaries are all different. Here is a general overview of how to create and add new items to many of Python's data structures:"
      ]
    },
    {
      "cell_type": "code",
      "metadata": {
        "colab": {
          "base_uri": "https://localhost:8080/"
        },
        "id": "yIoaTUZItBq4",
        "outputId": "e384bb41-f801-4905-dc77-32bf732d57ce"
      },
      "source": [
        "\"\"\" LISTS \"\"\"\n",
        "# creating an empty list:\n",
        "my_list = []\n",
        "# creating a list with items in it:\n",
        "my_list = [\"Ohio\", \"Iowa\", \"Utah\"]\n",
        "# adding a new item to a list\n",
        "my_list.append(\"Michigan\")\n",
        "\n",
        "# adding multiple items to a list, maybe even another list:\n",
        "my_list.extend( [\"Idaho\", \"Texas\", \"Maine\"] )\n",
        "# you can also do:\n",
        "my_list = my_list + [\"Idaho\", \"Texas\", \"Maine\"]\n",
        "# which can be shortened to:\n",
        "my_list += [\"Idaho\", \"Texas\", \"Maine\"]\n",
        "\n",
        "print(\"my_list =>\", my_list)\n",
        "\n",
        "\n",
        "\"\"\" STRINGS \"\"\"\n",
        "# creating an empty string:\n",
        "my_str = \"\"\n",
        "# creating a non-empty string:\n",
        "my_str = \"Hello \"\n",
        "# adding another string to an existing string:\n",
        "my_str = my_str + \"World!\"\n",
        "# this can be condensed to:\n",
        "my_str += \"World!\"\n",
        "# adding something that isn't a string to an existing string:\n",
        "my_str += str(2021)\n",
        "\n",
        "print(\"my_str =>\", my_str)\n",
        "\n",
        "\n",
        "\"\"\" DICTIONARIES \"\"\"\n",
        "# creating an empty dict:\n",
        "my_dict = {}\n",
        "# creating a non-empty dict:\n",
        "my_dict = { \"favorite_data_structure\": \"list\" }\n",
        "# changing an existing key/value pair\n",
        "my_dict[\"favorite_data_structure\"] = \"dictionary\"\n",
        "# adding a new key/value pair to a dict\n",
        "my_dict[\"least_favorite_data_structure\"] = \"list\"\n",
        "# (they're done the same way)\n",
        "\n",
        "# add a new dictionary into an existing one:\n",
        "# the keys of the new dict will overwrite identical keys in the old dict\n",
        "my_dict.update( {\"A\": 0, \"B\": 1, \"C\": 2, \"least_favorite_data_structure\": None } )\n",
        "\n",
        "print(\"my_dict =>\", my_dict)\n",
        "\n",
        "\n",
        "\"\"\" SETS \"\"\"\n",
        "# creating an empty set:\n",
        "my_set = set()\n",
        "# creating a non-empty set:\n",
        "# the difference between set and dict is that set doesn't have the colons(:)\n",
        "# which connect the keys to their corresponding values\n",
        "my_set = { 1, 2, 3, 4, 1, 2, 3, 4 }\n",
        "# adding a new item to a set:\n",
        "my_set.add(5)\n",
        "# adding multiple new items to a set:\n",
        "# always use the list [] brackets when passing items to set.update()\n",
        "# otherwise, stuff like strings will get split into their individual characters\n",
        "my_set.update([2,4,6])\n",
        "\n",
        "# notice how 1,2,3,4 only appear once even though we added multiple copies of them\n",
        "# this is the purpose of a set, to remove duplicates and only contain one version of an item\n",
        "print(\"my_set =>\", my_set)\n",
        "\n",
        "\n",
        "\"\"\" TUPLES \"\"\"\n",
        "# creating an empty tuple:\n",
        "my_tuple = ()\n",
        "# creating a non-empty tuple:\n",
        "my_tuple = (1, 2, 3)\n",
        "# adding new item to a tuple:\n",
        "# YOU SHOULD NOT BE DOING THIS\n",
        "# tuples are meant to be unchanged after creation\n",
        "# although there are hacks to add new items to tuples,\n",
        "# it is bad practice, and you should be using a list instead\n",
        "\n",
        "print(\"my_tuple =>\", my_tuple)"
      ],
      "execution_count": null,
      "outputs": [
        {
          "output_type": "stream",
          "text": [
            "my_list => ['Ohio', 'Iowa', 'Utah', 'Michigan', 'Idaho', 'Texas', 'Maine', 'Idaho', 'Texas', 'Maine', 'Idaho', 'Texas', 'Maine']\n",
            "my_str => Hello World!World!2021\n",
            "my_dict => {'favorite_data_structure': 'dictionary', 'least_favorite_data_structure': None, 'A': 0, 'B': 1, 'C': 2}\n",
            "my_set => {1, 2, 3, 4, 5, 6}\n",
            "my_tuple => (1, 2, 3)\n"
          ],
          "name": "stdout"
        }
      ]
    },
    {
      "cell_type": "markdown",
      "metadata": {
        "id": "PcHp-UXAnuKs"
      },
      "source": [
        "# Combining Them Together\n",
        "Although mapping, filtering, and reducing are powerful on their own, they become infinitely more useful when combined together. Here are a few examples of how to do so:"
      ]
    },
    {
      "cell_type": "code",
      "metadata": {
        "colab": {
          "base_uri": "https://localhost:8080/"
        },
        "id": "gxDj7IbtoOUv",
        "outputId": "e8dd8b51-8bb2-4dae-b49d-127456273379"
      },
      "source": [
        "# mapping and filtering\n",
        "def get_square_roots_of_positive_numbers(nums):\n",
        "    square_roots = []\n",
        "    \n",
        "    for num in nums:\n",
        "        if num > 0: # filtering\n",
        "            square_root = math.sqrt(num) # mapping\n",
        "            square_roots.append(square_root)\n",
        "    \n",
        "    return square_roots\n",
        "\n",
        "\n",
        "numbers = [-4, -3, -2, -1, 0, 1, 2, 3, 4]\n",
        "print(\n",
        "    get_square_roots_of_positive_numbers(numbers)\n",
        ")"
      ],
      "execution_count": null,
      "outputs": [
        {
          "output_type": "stream",
          "text": [
            "[1.0, 1.4142135623730951, 1.7320508075688772, 2.0]\n"
          ],
          "name": "stdout"
        }
      ]
    },
    {
      "cell_type": "markdown",
      "metadata": {
        "id": "5MIAqqYmo16f"
      },
      "source": [
        "If you are just mapping and filtering, then you can shorten it down once again using a comprehension. As always, do not use comprehensions until you fully understand how the example above with `for` loops and `if` statements works."
      ]
    },
    {
      "cell_type": "code",
      "metadata": {
        "colab": {
          "base_uri": "https://localhost:8080/"
        },
        "id": "44HR1M1xo_5p",
        "outputId": "c57967ad-92c4-4fd5-e90c-ea1cb5574089"
      },
      "source": [
        "def get_square_roots_of_positive_numbers(nums):\n",
        "  return [math.sqrt(num) for num in nums if num > 0]\n",
        "\n",
        "numbers = [-4, -3, -2, -1, 0, 1, 2, 3, 4]\n",
        "print(\n",
        "    get_square_roots_of_positive_numbers(numbers)\n",
        ")"
      ],
      "execution_count": null,
      "outputs": [
        {
          "output_type": "stream",
          "text": [
            "[1.0, 1.4142135623730951, 1.7320508075688772, 2.0]\n"
          ],
          "name": "stdout"
        }
      ]
    },
    {
      "cell_type": "markdown",
      "metadata": {
        "id": "TKEN__CgxtjJ"
      },
      "source": [
        "Next, we have an example using all three of mapping, filtering, and reducing together:"
      ]
    },
    {
      "cell_type": "code",
      "metadata": {
        "colab": {
          "base_uri": "https://localhost:8080/"
        },
        "id": "lH_kdpLkoxjp",
        "outputId": "d9b8b1df-5e19-40b2-b491-86b1c0d917b9"
      },
      "source": [
        "# mapping, filtering, and reducing\n",
        "def get_product_of_square_roots_of_positive_numbers(nums):\n",
        "    product = 1\n",
        "    \n",
        "    for num in nums:\n",
        "        if num > 0: # filter\n",
        "            square_root = math.sqrt(num) # map\n",
        "            product = product * square_root # reduce\n",
        "            \n",
        "    return product\n",
        "\n",
        "\n",
        "numbers = [-16, -9, -4, -1, 0, 1, 4, 9, 16]\n",
        "print(\n",
        "    get_product_of_square_roots_of_positive_numbers(numbers)\n",
        ")"
      ],
      "execution_count": null,
      "outputs": [
        {
          "output_type": "stream",
          "text": [
            "24.0\n"
          ],
          "name": "stdout"
        }
      ]
    },
    {
      "cell_type": "markdown",
      "metadata": {
        "id": "HV7PAESPxyq-"
      },
      "source": [
        "Unlike with the previous example, there is no real way to nicely condense this down. However, you might consider using a comprehension for the mapping and filtering step, and then doing the reducing afterwards, like so:"
      ]
    },
    {
      "cell_type": "code",
      "metadata": {
        "colab": {
          "base_uri": "https://localhost:8080/"
        },
        "id": "v9r4dDzpx8_q",
        "outputId": "5ad388c1-4ce6-4145-aae7-69331cbd0b59"
      },
      "source": [
        "def get_product_of_square_roots_of_positive_numbers(nums):\n",
        "  square_roots = [math.sqrt(num) for num in nums if num > 0]\n",
        "  product = 1\n",
        "  \n",
        "  for root in square_roots:\n",
        "    product *= root\n",
        "  \n",
        "  return product\n",
        "\n",
        "\n",
        "numbers = [-16, -9, -4, -1, 0, 1, 4, 9, 16]\n",
        "print(\n",
        "    get_product_of_square_roots_of_positive_numbers(numbers)\n",
        ")"
      ],
      "execution_count": null,
      "outputs": [
        {
          "output_type": "stream",
          "text": [
            "24.0\n"
          ],
          "name": "stdout"
        }
      ]
    },
    {
      "cell_type": "markdown",
      "metadata": {
        "id": "cXrSafjTNkMz"
      },
      "source": [
        "Finally, I want to show an example of a function that performs mapping on inputs differently based on multiple filters in an `if-elif-else` chain. This is a very useful technique to have in your toolkit, so be familiar with it:"
      ]
    },
    {
      "cell_type": "code",
      "metadata": {
        "colab": {
          "base_uri": "https://localhost:8080/"
        },
        "id": "LKy0gbpmN0HO",
        "outputId": "a672a47f-3e33-40b4-841d-13930269959e"
      },
      "source": [
        "def get_programming_languages_of_files(filenames):\n",
        "  file_languages = []\n",
        "\n",
        "  for filename in filenames:\n",
        "    # multiple filters, and each path maps the data in a different way\n",
        "    # for example, if you have a file called 'battleship.cpp',\n",
        "    # it will fail the first and second filters, but will pass the third ('.cpp')\n",
        "    # and thus, it will be mapped to 'C++', instead of 'Python' or 'PHP'\n",
        "    if filename.endswith('.py'):\n",
        "      file_language = 'Python'\n",
        "    elif filename.endswith('.php'):\n",
        "      file_language = 'PHP'\n",
        "    elif filename.endswith('.cpp'):\n",
        "      file_language = 'C++'\n",
        "    else:\n",
        "      file_language = 'Unknown Programming Language'\n",
        "    \n",
        "    file_languages.append(file_language)\n",
        "\n",
        "  return file_languages\n",
        "\n",
        "\n",
        "files = ['run_scrapers.py', 'scones.cpp', 'heatmap.js', 'euchre.cpp']\n",
        "print(\n",
        "    get_programming_languages_of_files(files)\n",
        ")"
      ],
      "execution_count": null,
      "outputs": [
        {
          "output_type": "stream",
          "text": [
            "['Python', 'C++', 'Unknown Programming Language', 'C++']\n"
          ],
          "name": "stdout"
        }
      ]
    },
    {
      "cell_type": "markdown",
      "metadata": {
        "id": "m6bvB5FKp8bJ"
      },
      "source": [
        "# About `in`\n",
        "Let's go off on another tangent for a bit and talk about `in`.\n",
        "\n",
        "The most prominent use of `in` within Python is with `for` loops when iterating over data structures like `lists`, `dicts`, `strings`, etc... \n",
        "\n",
        "```py\n",
        "  for item in [1,2,3,4]:\n",
        "    print(item)\n",
        "\n",
        "  for character in \"this is a string\":\n",
        "    print(character)\n",
        "\n",
        "  sample_dict = {\"key\": \"value\", \"key2\": \"value2\"}\n",
        "  for key in sample_dict\n",
        "    print(key, sample_dict[key])\n",
        "\n",
        "  # this has the same result as the previous loop\n",
        "  for key,val in sample_dict.items():\n",
        "    print(key, val)\n",
        "```\n",
        "\n",
        "However, Python reuses `in` as an operator to check whether an item is within one of these data structures.\n",
        "```py\n",
        "  3 in [1,2,3,4] # True\n",
        "  \n",
        "  \"coDa\" in \"EcoData\" # True\n",
        "  \"coda\" in \"EcoData\" # False, due to lowercase 'd'\n",
        "\n",
        "  states = {\"OH\": \"Ohio\", \"UT\": \"UTAH\", \"IA\": \"IOWA\"}\n",
        "  \"OH\" in states # True\n",
        "  \"Ohio\" in states # False, since \"Ohio\" is not a key in the dictionary\n",
        "```\n",
        "\n",
        "This is probably going to confuse many of you, but it is an essential part of Python that you must master. For example, a common technique is to combine a `for..in` loop with an `in` operator like so:"
      ]
    },
    {
      "cell_type": "code",
      "metadata": {
        "colab": {
          "base_uri": "https://localhost:8080/"
        },
        "id": "8zzACqBQt9S_",
        "outputId": "31e515c2-f644-48d9-c733-26d585dde778"
      },
      "source": [
        "# return items common between the two lists provided\n",
        "def get_common_items(list_1, list_2):\n",
        "  common_items = []\n",
        "\n",
        "  for item in list_1:\n",
        "    # check if an item from list_1 also exists in list_2\n",
        "    if item in list_2: # filtering\n",
        "      common_items.append(item)\n",
        "\n",
        "  return common_items\n",
        "\n",
        "\n",
        "fruits = [\"cherry\", \"orange\", \"strawberry\", \"banana\"]\n",
        "red_things = [\"firetruck\", \"strawberry\", \"lobster\", \"cherry\"]\n",
        "\n",
        "red_fruits = get_common_items(fruits, red_things)\n",
        "print(red_fruits)"
      ],
      "execution_count": null,
      "outputs": [
        {
          "output_type": "stream",
          "text": [
            "['cherry', 'strawberry']\n"
          ],
          "name": "stdout"
        }
      ]
    },
    {
      "cell_type": "markdown",
      "metadata": {
        "id": "24pKyQvW3SOU"
      },
      "source": [
        "# More Than Just Lists \\#2\n",
        "Once again, mapping, filtering, and reducing can be adapted to other data structures like strings, dictionaries, and more. Below, we have two examples. \n",
        "\n",
        "The first is an example of mapping and filtering with a set. A set is a data structure similar to a dictionary, but with only keys and no corresponding values. Sets are commonly used when you want to ensure that you have no duplicated items (as sets can only contain unique items). \n",
        "\n",
        "This example is a modified version of an actual function from the Eco-Update Synthesizer Project. In this case, our web scraper may have been returning multiple instances of identical article headlines, so using a set rather than a list would let us avoid the trouble of removing duplicate headlines."
      ]
    },
    {
      "cell_type": "code",
      "metadata": {
        "colab": {
          "base_uri": "https://localhost:8080/"
        },
        "id": "Sqk9cqMh4GFI",
        "outputId": "40d9dfdd-886f-432e-b28c-bdaa1cd39dd3"
      },
      "source": [
        "# headlines is a set of strings\n",
        "# desired keyword is a string\n",
        "# we want to return all headlines which contain desired_keyword as a substring\n",
        "def filter_for_keyword(headlines, desired_keyword):\n",
        "    # an empty set must be declared with set(), not {}\n",
        "    filtered_headlines = set()\n",
        "\n",
        "    for headline in headlines:\n",
        "        # lowercase the headline so that words like \"Polar\" \n",
        "        # match a lowercase keyword like \"polar\"\n",
        "        lowercased_headline = headline.lower() # mapping\n",
        "\n",
        "        # detect if the keyword is a substring of the headline\n",
        "        if desired_keyword in lowercased_headline: # filtering\n",
        "            filtered_headlines.add(headline)\n",
        "\n",
        "    return filtered_headlines\n",
        "\n",
        "\n",
        "# sets are made with {} just like dictionaries\n",
        "# but you don't use colons(':') like dicts use to indicate a key's corresponding value\n",
        "# Note that empty sets must be declared with set(), not {}\n",
        "bbc_headlines = {'Nasa promises Mars rover landing video', 'Remarkable photo of Mars rover during landing', \"AI used to 'predict the next coronavirus'\", 'Was Stonehenge originally sited in Wales?', 'How much does climate change cost US economy?', \"Yungblud 'honoured' to have song played on Mars\", \"Will Nasa's next rover discover life on Mars?\", 'Are streaming algorithms really damaging film?', \"Smart materials could 'transform our lives'\", \"'You can't be afraid when fishing for sharks'\", \"Where are Cape Town's great white sharks?\", \"Perseverance rover in 'great shape' after landing \", 'Are frozen wind turbines to blame for Texas power cuts?', \"UK to launch 'high risk' science agency\", 'Solving Covid easy compared with climate - Gates', \"Key questions about Nasa's next Mars rover\", 'Astronaut recruitment drive for greater diversity', 'How to stay safe in freezing weather', 'Computer says go: Taking orders from an AI boss', \"As it happened: 'Flawless' touchdown on Mars\"}\n",
        "keyword = 'climate'\n",
        "\n",
        "filtered_headlines = filter_for_keyword(bbc_headlines, keyword)\n",
        "print(filtered_headlines)"
      ],
      "execution_count": null,
      "outputs": [
        {
          "output_type": "stream",
          "text": [
            "{'Solving Covid easy compared with climate - Gates', 'How much does climate change cost US economy?'}\n"
          ],
          "name": "stdout"
        }
      ]
    },
    {
      "cell_type": "markdown",
      "metadata": {
        "id": "B5GCb13b8Dd1"
      },
      "source": [
        "The next example shows all three of mapping, filtering, and reducing. Technically we are performing these operations on a list (of chemicals), but I wanted to include this example here since it displays a great real-world use case of mapping/filtering/reducing. Although the code may look complicated, it is really no different from all the examples we've previously looked at. At its core, this code below really only involves mapping, filtering, and reducing.\n",
        "\n",
        "Something to note is that in this example, we are working with a nested dictionary (a dictionary whose keys point to additional dictionaries). This may look scary, but it should hopefully be understandable if you carefully read it and look at the actual nested dictionary at the bottom of the code in the `epa_contamination_data` variable.\n",
        "\n",
        "Finally, an overview of the code. This example is a modified version of an actual function from the Chemical Contamination Heatmap project. First, the function shown below takes in three parameters: zipcode(string), contamination_data(nested dictionary), and list_of_chemicals(list of strings).\n",
        "\n",
        "For each chemical in the list_of_chemicals, we first do filtering to detect if we can find that chemical in the contamination_data for the given zipcode. Depending on this filter, we then map the chemical to an HTML string in a certain way. Finally, we reduce all the HTML strings into one giant HTML string, and return it.\n",
        "\n",
        "> HTML is a language used to design the structure of a website. It is essentially the \"skeleton\" that tells your browser what items to render onto a webpage. The example below will cause your browser to render a list with asterisks. Try it out at https://htmledit.squarefree.com/!\n",
        "\n",
        "> Some Python syntax notes:\n",
        "> `\"\"\" \"\"\"` and `''' '''` create a multiline string, that can extend for multiple lines. They are often also used for multiline comments as well. Adding `f` before any string in Python allows you to embed Python variables into that string."
      ]
    },
    {
      "cell_type": "code",
      "metadata": {
        "colab": {
          "base_uri": "https://localhost:8080/"
        },
        "id": "MlIBR22ZFrqM",
        "outputId": "dc653d30-c32e-4d13-b1d3-db85d3575a0c"
      },
      "source": [
        "# returns an html string used to visually display\n",
        "# the chemical contaminant levels for every chemical at the provided zipcode\n",
        "def create_summary_html_for_zipcode(zipcode, contamination_data, list_of_chemicals):\n",
        "  # start an unordered list element (ul)\n",
        "  total_html = f\"\"\"\n",
        "    <h3>Contamination summary for {zipcode}:</h3>\n",
        "    <ul>\n",
        "  \"\"\"\n",
        "\n",
        "  for chemical_name in list_of_chemicals:\n",
        "\n",
        "    # Filtering for chemicals that are present in the contamination data for\n",
        "    # the provided zipcode. Not all chemicals are present at every zipcode.\n",
        "    if chemical_name in contamination_data[zipcode]:\n",
        "  \n",
        "      chemical_amount = contamination_data[zipcode][chemical_name]\n",
        "\n",
        "      # mapping a chemical_name and chemical_amount to an html string\n",
        "      new_html = f\"\"\"\n",
        "        <li>{chemical_name} was detected at {chemical_amount} µg/l</li>\n",
        "      \"\"\"\n",
        "    else:\n",
        "      # if chemical_name failed the filtering condition,\n",
        "      # then perform a different mapping on it\n",
        "      new_html = f\"\"\"\n",
        "        <li>{chemical_name} was <strong>not</strong> detected</li>\n",
        "      \"\"\"\n",
        "    \n",
        "\n",
        "    # reduce every chemical in list_of_chemicals into a giant html string\n",
        "    # which a browser like Chrome or Safari will render as a visual summary list\n",
        "    total_html += new_html\n",
        "\n",
        "  # close the opening <ul> tag to make a valid html unordered list\n",
        "  total_html += \"</ul>\"\n",
        "\n",
        "  return total_html\n",
        "  \n",
        "\n",
        "zipcode = \"48021\"\n",
        "epa_contamination_data = {\"48021\":{\"chromium-6\":0.21,\"chromium\":0.26666666666666666,\"strontium\":93.25,\"vanadium\":0.5, \"HAA5\":13.295,\"HAA6Br\":7.87,\"HAA9\":20.669999999999998,\"manganese\":8.166666666666666}, \"48846\":{\"chlorate\":173.75,\"molybdenum\":1.1400000000000001,\"strontium\":116.375}}\n",
        "list_of_chemicals = [\"1,1-dichloroethane\",\"1,4-dioxane\",\"1-butanol\",\"2-methoxyethanol\",\"4-androstene-3,17-dione\",\"HAA5\",\"HAA6Br\",\"HAA9\",\"HCFC-22\",\"Halon 1011\",\"NDMA\",\"PFOS\",\"chlorate\",\"chromium-6\",\"chromium\",\"cobalt\",\"germanium\",\"manganese\",\"molybdenum\",\"oxyfluorfen\",\"strontium\",\"testosterone\",\"vanadium\"]\n",
        "\n",
        "print(\n",
        "    create_summary_html_for_zipcode(zipcode, epa_contamination_data, list_of_chemicals)\n",
        ")"
      ],
      "execution_count": null,
      "outputs": [
        {
          "output_type": "stream",
          "text": [
            "\n",
            "    <h3>Contamination summary for 48021:</h3>\n",
            "    <ul>\n",
            "  \n",
            "        <li>1,1-dichloroethane was <strong>not</strong> detected</li>\n",
            "      \n",
            "        <li>1,4-dioxane was <strong>not</strong> detected</li>\n",
            "      \n",
            "        <li>1-butanol was <strong>not</strong> detected</li>\n",
            "      \n",
            "        <li>2-methoxyethanol was <strong>not</strong> detected</li>\n",
            "      \n",
            "        <li>4-androstene-3,17-dione was <strong>not</strong> detected</li>\n",
            "      \n",
            "        <li>HAA5 was detected at 13.295 µg/l</li>\n",
            "      \n",
            "        <li>HAA6Br was detected at 7.87 µg/l</li>\n",
            "      \n",
            "        <li>HAA9 was detected at 20.669999999999998 µg/l</li>\n",
            "      \n",
            "        <li>HCFC-22 was <strong>not</strong> detected</li>\n",
            "      \n",
            "        <li>Halon 1011 was <strong>not</strong> detected</li>\n",
            "      \n",
            "        <li>NDMA was <strong>not</strong> detected</li>\n",
            "      \n",
            "        <li>PFOS was <strong>not</strong> detected</li>\n",
            "      \n",
            "        <li>chlorate was <strong>not</strong> detected</li>\n",
            "      \n",
            "        <li>chromium-6 was detected at 0.21 µg/l</li>\n",
            "      \n",
            "        <li>chromium was detected at 0.26666666666666666 µg/l</li>\n",
            "      \n",
            "        <li>cobalt was <strong>not</strong> detected</li>\n",
            "      \n",
            "        <li>germanium was <strong>not</strong> detected</li>\n",
            "      \n",
            "        <li>manganese was detected at 8.166666666666666 µg/l</li>\n",
            "      \n",
            "        <li>molybdenum was <strong>not</strong> detected</li>\n",
            "      \n",
            "        <li>oxyfluorfen was <strong>not</strong> detected</li>\n",
            "      \n",
            "        <li>strontium was detected at 93.25 µg/l</li>\n",
            "      \n",
            "        <li>testosterone was <strong>not</strong> detected</li>\n",
            "      \n",
            "        <li>vanadium was detected at 0.5 µg/l</li>\n",
            "      </ul>\n"
          ],
          "name": "stdout"
        }
      ]
    },
    {
      "cell_type": "markdown",
      "metadata": {
        "id": "tqDFrPoB6u9q"
      },
      "source": [
        "Usually, this is the part where I show how a more experienced Python user can use a comprehension to condense all that code into 1 line. However, for complicated mapping/filtering/reducing processes like the ones shown above, it is highly advisable to stick with `for` loops and `if` statements. Comprehensions should only be used for small, less complicated operations."
      ]
    },
    {
      "cell_type": "markdown",
      "metadata": {
        "id": "PjkMFSRk6Up4"
      },
      "source": [
        "# Conclusion\n",
        "\n",
        "If you've made it this far, then congratulations! I hope this compendium was helpful in some way. If you would like to give feedback, or make suggestions for future compendium topics, then please let me know. My Slack is just `Krithik Vallem`, and my email is `vallemkr@umich.edu`.\n",
        "\n",
        "Once again, thank you, and good luck with your programming journey!"
      ]
    }
  ]
}